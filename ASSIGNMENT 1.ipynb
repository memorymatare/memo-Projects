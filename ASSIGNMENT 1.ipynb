{
 "cells": [
  {
   "cell_type": "code",
   "execution_count": 12,
   "id": "52e260b7",
   "metadata": {},
   "outputs": [
    {
     "name": "stdout",
     "output_type": "stream",
     "text": [
      "memo Matt\n"
     ]
    }
   ],
   "source": [
    "# creating a list of students and their grades\n",
    "memo= [ {'A':'memo'},{'A':'Matt'},{'C':'Brett'}]\n",
    "\n",
    "print(memo[0].get('A'),memo[1].get(\"A\"))"
   ]
  },
  {
   "cell_type": "code",
   "execution_count": 56,
   "id": "738ff993",
   "metadata": {},
   "outputs": [
    {
     "name": "stdout",
     "output_type": "stream",
     "text": [
      "Memoh\n"
     ]
    }
   ],
   "source": [
    "# dictionary of employees and their salaries\n",
    "employee_dictionary= {5700:'Harry', 6700:\"Charles\", 9087:'Memoh'}\n",
    "print(employee_dictionary.get(9087))"
   ]
  },
  {
   "cell_type": "code",
   "execution_count": 17,
   "id": "b8368628",
   "metadata": {},
   "outputs": [
    {
     "name": "stdout",
     "output_type": "stream",
     "text": [
      "Anita Fife Avenue 789056743\n"
     ]
    }
   ],
   "source": [
    "# a programe that stores a customer information and outputs the name, address and cell number\n",
    "class Employee():\n",
    "    pass\n",
    "customer= {'name':'Anita','address':'Fife Avenue', 'cell number':789056743}\n",
    "print(customer.get('name'),customer.get('address'),customer.get('cell number'))"
   ]
  },
  {
   "cell_type": "code",
   "execution_count": 4,
   "id": "cf2c6211",
   "metadata": {},
   "outputs": [
    {
     "name": "stdout",
     "output_type": "stream",
     "text": [
      "<class 'float'>\n"
     ]
    }
   ],
   "source": [
    "# creating a union of two values and outputs the type of the union\n",
    "number= [7]\n",
    "number2= [3.45]\n",
    "print(type(number[0]+number2[0]))\n"
   ]
  },
  {
   "cell_type": "code",
   "execution_count": 5,
   "id": "40f74edd",
   "metadata": {},
   "outputs": [
    {
     "name": "stdout",
     "output_type": "stream",
     "text": [
      "{'black', 'red', 'blue'}\n"
     ]
    }
   ],
   "source": [
    "# creating a set of colours and and another colour in the set\n",
    "colours= {'blue','black'}\n",
    "colours.add('red')\n",
    "print(colours)"
   ]
  },
  {
   "cell_type": "code",
   "execution_count": 8,
   "id": "6330216f",
   "metadata": {},
   "outputs": [
    {
     "name": "stdout",
     "output_type": "stream",
     "text": [
      "nashy\n"
     ]
    }
   ],
   "source": [
    "# creating a pointer that can change the value of the variable through that pointer\n",
    "name= 'mashleig'\n",
    "pointer= name\n",
    "print(pointer.replace(pointer,'nashy'))"
   ]
  },
  {
   "cell_type": "code",
   "execution_count": null,
   "id": "d7a09265",
   "metadata": {},
   "outputs": [],
   "source": []
  },
  {
   "cell_type": "code",
   "execution_count": null,
   "id": "e760a9b9",
   "metadata": {},
   "outputs": [],
   "source": []
  }
 ],
 "metadata": {
  "kernelspec": {
   "display_name": "Python 3 (ipykernel)",
   "language": "python",
   "name": "python3"
  },
  "language_info": {
   "codemirror_mode": {
    "name": "ipython",
    "version": 3
   },
   "file_extension": ".py",
   "mimetype": "text/x-python",
   "name": "python",
   "nbconvert_exporter": "python",
   "pygments_lexer": "ipython3",
   "version": "3.11.4"
  },
  "widgets": {
   "application/vnd.jupyter.widget-state+json": {
    "state": {},
    "version_major": 2,
    "version_minor": 0
   }
  }
 },
 "nbformat": 4,
 "nbformat_minor": 5
}
